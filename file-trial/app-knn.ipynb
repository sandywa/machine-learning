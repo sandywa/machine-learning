{
 "cells": [
  {
   "cell_type": "code",
   "execution_count": null,
   "id": "b078352f",
   "metadata": {},
   "outputs": [],
   "source": [
    "import os\n",
    "import cv2\n",
    "import numpy\n",
    "from flask import Flask, render_template, request, send_from_directory\n",
    "from csv import reader\n",
    "from sys import exit\n",
    "from math import sqrt\n",
    "from operator import itemgetter"
   ]
  },
  {
   "cell_type": "code",
   "execution_count": null,
   "id": "8aa4f8b8",
   "metadata": {},
   "outputs": [],
   "source": [
    "app = Flask(__name__)\n",
    "app.config['UPLOAD_FOLDER'] = './static/uploads/'"
   ]
  },
  {
   "cell_type": "code",
   "execution_count": null,
   "id": "891d0d34",
   "metadata": {},
   "outputs": [],
   "source": [
    "def load_data_set(filename):\n",
    "    try:\n",
    "        with open(filename, newline='') as iris:\n",
    "            return list(reader(iris, delimiter=','))\n",
    "    except FileNotFoundError as e:\n",
    "        raise e"
   ]
  },
  {
   "cell_type": "code",
   "execution_count": 1,
   "id": "67b0e0b8",
   "metadata": {},
   "outputs": [],
   "source": [
    "def convert_to_float(data_set, mode):\n",
    "    new_set = []\n",
    "    try:\n",
    "        if mode == 'training':\n",
    "            for data in data_set:\n",
    "                new_set.append([float(x) for x in data[:len(data)-1]] + [data[len(data)-1]])\n",
    "\n",
    "        elif mode == 'test':\n",
    "            for data in data_set:\n",
    "                new_set.append([float(x) for x in data])\n",
    "\n",
    "        else:\n",
    "            print('Invalid mode, program will exit.')\n",
    "            exit()\n",
    "\n",
    "        return new_set\n",
    "\n",
    "    except ValueError as v:\n",
    "        print(v)\n",
    "        print('Invalid data set format, program will exit.')\n",
    "        exit()"
   ]
  },
  {
   "cell_type": "code",
   "execution_count": 2,
   "id": "2ef0aba3",
   "metadata": {},
   "outputs": [],
   "source": [
    "def get_classes(training_set):\n",
    "    return list(set([c[-1] for c in training_set]))"
   ]
  },
  {
   "cell_type": "code",
   "execution_count": 3,
   "id": "0fdde233",
   "metadata": {},
   "outputs": [],
   "source": [
    "def find_neighbors(distances, k):\n",
    "    return distances[0:k]"
   ]
  },
  {
   "cell_type": "code",
   "execution_count": 4,
   "id": "d3268058",
   "metadata": {},
   "outputs": [],
   "source": [
    "def find_response(neighbors, classes):\n",
    "    votes = [0] * len(classes)\n",
    "\n",
    "    for instance in neighbors:\n",
    "        for ctr, c in enumerate(classes):\n",
    "            if instance[-2] == c:\n",
    "                votes[ctr] += 1\n",
    "\n",
    "    return max(enumerate(votes), key=itemgetter(1))"
   ]
  },
  {
   "cell_type": "code",
   "execution_count": 5,
   "id": "081f76de",
   "metadata": {},
   "outputs": [],
   "source": [
    "def knn(training_set, test_set, k):\n",
    "    distances = []\n",
    "    dist = 0\n",
    "    limit = len(training_set[0]) - 1\n",
    "\n",
    "    # generate response classes from training data\n",
    "    classes = get_classes(training_set)\n",
    "\n",
    "    try:\n",
    "        for test_instance in test_set:\n",
    "            for row in training_set:\n",
    "                for x, y in zip(row[:limit], test_instance):\n",
    "                    dist += (x-y) * (x-y)\n",
    "                distances.append(row + [sqrt(dist)])\n",
    "                dist = 0\n",
    "\n",
    "            distances.sort(key=itemgetter(len(distances[0])-1))\n",
    "\n",
    "            # find k nearest neighbors\n",
    "            neighbors = find_neighbors(distances, k)\n",
    "\n",
    "            # get the class with maximum votes\n",
    "            index, value = find_response(neighbors, classes)\n",
    "\n",
    "            # Display prediction\n",
    "            print('The predicted class for sample ' + str(test_instance) + ' is : ' + classes[index])\n",
    "            print('Number of votes : ' + str(value) + ' out of ' + str(k))\n",
    "\n",
    "            # empty the distance list\n",
    "            distances.clear()\n",
    "\n",
    "    except Exception as e:\n",
    "        print(e)"
   ]
  },
  {
   "cell_type": "code",
   "execution_count": 6,
   "id": "f4f49be5",
   "metadata": {},
   "outputs": [
    {
     "ename": "NameError",
     "evalue": "name 'app' is not defined",
     "output_type": "error",
     "traceback": [
      "\u001b[0;31m---------------------------------------------------------------------------\u001b[0m",
      "\u001b[0;31mNameError\u001b[0m                                 Traceback (most recent call last)",
      "\u001b[0;32m<ipython-input-6-b6f405a0dc27>\u001b[0m in \u001b[0;36m<module>\u001b[0;34m\u001b[0m\n\u001b[0;32m----> 1\u001b[0;31m \u001b[0;34m@\u001b[0m\u001b[0mapp\u001b[0m\u001b[0;34m.\u001b[0m\u001b[0mroute\u001b[0m\u001b[0;34m(\u001b[0m\u001b[0;34m'/'\u001b[0m\u001b[0;34m,\u001b[0m \u001b[0mmethods\u001b[0m\u001b[0;34m=\u001b[0m\u001b[0;34m[\u001b[0m\u001b[0;34m'GET'\u001b[0m \u001b[0;34m,\u001b[0m \u001b[0;34m'POST'\u001b[0m\u001b[0;34m]\u001b[0m\u001b[0;34m)\u001b[0m\u001b[0;34m\u001b[0m\u001b[0;34m\u001b[0m\u001b[0m\n\u001b[0m\u001b[1;32m      2\u001b[0m \u001b[0;32mdef\u001b[0m \u001b[0mindex\u001b[0m\u001b[0;34m(\u001b[0m\u001b[0;34m)\u001b[0m\u001b[0;34m:\u001b[0m\u001b[0;34m\u001b[0m\u001b[0;34m\u001b[0m\u001b[0m\n\u001b[1;32m      3\u001b[0m     \u001b[0;32mif\u001b[0m \u001b[0mrequest\u001b[0m\u001b[0;34m.\u001b[0m\u001b[0mmethod\u001b[0m \u001b[0;34m==\u001b[0m \u001b[0;34m'POST'\u001b[0m\u001b[0;34m:\u001b[0m\u001b[0;34m\u001b[0m\u001b[0;34m\u001b[0m\u001b[0m\n\u001b[1;32m      4\u001b[0m         \u001b[0;32mif\u001b[0m \u001b[0mrequest\u001b[0m\u001b[0;34m.\u001b[0m\u001b[0mfiles\u001b[0m\u001b[0;34m:\u001b[0m\u001b[0;34m\u001b[0m\u001b[0;34m\u001b[0m\u001b[0m\n\u001b[1;32m      5\u001b[0m             \u001b[0mimage\u001b[0m \u001b[0;34m=\u001b[0m \u001b[0mrequest\u001b[0m\u001b[0;34m.\u001b[0m\u001b[0mfiles\u001b[0m\u001b[0;34m[\u001b[0m\u001b[0;34m'image'\u001b[0m\u001b[0;34m]\u001b[0m\u001b[0;34m\u001b[0m\u001b[0;34m\u001b[0m\u001b[0m\n",
      "\u001b[0;31mNameError\u001b[0m: name 'app' is not defined"
     ]
    }
   ],
   "source": [
    "@app.route('/', methods=['GET' , 'POST'])\n",
    "def index():\n",
    "    if request.method == 'POST':\n",
    "        if request.files:\n",
    "            image = request.files['image']\n",
    "            img_path = os.path.join(app.config['UPLOAD_FOLDER'],image.filename)\n",
    "            image.save(img_path)\n",
    "            return render_template('index.html',fileDir=img_path)\n",
    "\n",
    "    return render_template('index.html')\n",
    "\n",
    "if __name__ == '__main__':\n",
    "    app.run(debug=True)"
   ]
  },
  {
   "cell_type": "code",
   "execution_count": null,
   "id": "58798755",
   "metadata": {},
   "outputs": [],
   "source": []
  }
 ],
 "metadata": {
  "kernelspec": {
   "display_name": "Python 3",
   "language": "python",
   "name": "python3"
  },
  "language_info": {
   "codemirror_mode": {
    "name": "ipython",
    "version": 3
   },
   "file_extension": ".py",
   "mimetype": "text/x-python",
   "name": "python",
   "nbconvert_exporter": "python",
   "pygments_lexer": "ipython3",
   "version": "3.6.9"
  }
 },
 "nbformat": 4,
 "nbformat_minor": 5
}
