{
 "cells": [
  {
   "cell_type": "code",
   "execution_count": 1,
   "metadata": {},
   "outputs": [],
   "source": [
    "from csv import reader\n",
    "from sys import exit\n",
    "from math import sqrt\n",
    "from operator import itemgetter"
   ]
  },
  {
   "cell_type": "code",
   "execution_count": 3,
   "metadata": {},
   "outputs": [],
   "source": [
    "def load_data_set(filename):\n",
    "    try:\n",
    "        with open(filename, newline='') as iris:\n",
    "            return list(reader(iris, delimiter=','))\n",
    "    except FileNotFoundError as e:\n",
    "        raise e\n"
   ]
  },
  {
   "cell_type": "code",
   "execution_count": 4,
   "metadata": {},
   "outputs": [],
   "source": [
    "def convert_to_float(data_set, mode):\n",
    "    new_set = []\n",
    "    try:\n",
    "        if mode == 'training':\n",
    "            for data in data_set:\n",
    "                new_set.append([float(x) for x in data[:len(data)-1]] + [data[len(data)-1]])\n",
    "\n",
    "        elif mode == 'test':\n",
    "            for data in data_set:\n",
    "                new_set.append([float(x) for x in data])\n",
    "\n",
    "        else:\n",
    "            print('Invalid mode, program will exit.')\n",
    "            exit()\n",
    "\n",
    "        return new_set\n",
    "\n",
    "    except ValueError as v:\n",
    "        print(v)\n",
    "        print('Invalid data set format, program will exit.')\n",
    "        exit()\n"
   ]
  },
  {
   "cell_type": "code",
   "execution_count": 5,
   "metadata": {},
   "outputs": [],
   "source": [
    "def get_classes(training_set):\n",
    "    return list(set([c[-1] for c in training_set]))"
   ]
  },
  {
   "cell_type": "code",
   "execution_count": 7,
   "metadata": {},
   "outputs": [],
   "source": [
    "def find_neighbors(distances, k):\n",
    "    return distances[0:k]"
   ]
  },
  {
   "cell_type": "code",
   "execution_count": 8,
   "metadata": {},
   "outputs": [],
   "source": [
    "def find_response(neighbors, classes):\n",
    "    votes = [0] * len(classes)\n",
    "\n",
    "    for instance in neighbors:\n",
    "        for ctr, c in enumerate(classes):\n",
    "            if instance[-2] == c:\n",
    "                votes[ctr] += 1\n",
    "\n",
    "    return max(enumerate(votes), key=itemgetter(1))"
   ]
  },
  {
   "cell_type": "code",
   "execution_count": 9,
   "metadata": {},
   "outputs": [],
   "source": [
    "def knn(training_set, test_set, k):\n",
    "    distances = []\n",
    "    dist = 0\n",
    "    limit = len(training_set[0]) - 1\n",
    "\n",
    "    # generate response classes from training data\n",
    "    classes = get_classes(training_set)\n",
    "\n",
    "    try:\n",
    "        for test_instance in test_set:\n",
    "            for row in training_set:\n",
    "                for x, y in zip(row[:limit], test_instance):\n",
    "                    dist += (x-y) * (x-y)\n",
    "                distances.append(row + [sqrt(dist)])\n",
    "                dist = 0\n",
    "\n",
    "            distances.sort(key=itemgetter(len(distances[0])-1))\n",
    "\n",
    "            # find k nearest neighbors\n",
    "            neighbors = find_neighbors(distances, k)\n",
    "\n",
    "            # get the class with maximum votes\n",
    "            index, value = find_response(neighbors, classes)\n",
    "\n",
    "            # Display prediction\n",
    "            print('The predicted class for sample ' + str(test_instance) + ' is : ' + classes[index])\n",
    "            print('Number of votes : ' + str(value) + ' out of ' + str(k))\n",
    "\n",
    "            # empty the distance list\n",
    "            distances.clear()\n",
    "\n",
    "    except Exception as e:\n",
    "        print(e)\n"
   ]
  },
  {
   "cell_type": "code",
   "execution_count": 11,
   "metadata": {},
   "outputs": [
    {
     "name": "stdout",
     "output_type": "stream",
     "text": [
      "Enter the value of k : 3\n",
      "Enter name of training data file : iris-dataset.csv\n",
      "Enter name of test data file : iris-test.csv\n",
      "The predicted class for sample [4.3, 2.9, 1.7, 0.3] is : Iris-setosa\n",
      "Number of votes : 3 out of 3\n",
      "The predicted class for sample [4.6, 2.7, 1.5, 0.2] is : Iris-setosa\n",
      "Number of votes : 3 out of 3\n",
      "The predicted class for sample [5.3, 3.4, 1.6, 0.2] is : Iris-setosa\n",
      "Number of votes : 3 out of 3\n",
      "The predicted class for sample [5.2, 4.1, 1.5, 0.1] is : Iris-setosa\n",
      "Number of votes : 3 out of 3\n",
      "The predicted class for sample [6.0, 2.2, 4.2, 1.0] is : Iris-versicolor\n",
      "Number of votes : 3 out of 3\n",
      "The predicted class for sample [6.2, 2.3, 4.5, 1.5] is : Iris-versicolor\n",
      "Number of votes : 3 out of 3\n",
      "The predicted class for sample [5.0, 2.1, 3.6, 1.2] is : Iris-versicolor\n",
      "Number of votes : 3 out of 3\n",
      "The predicted class for sample [6.6, 2.8, 5.4, 2.0] is : Iris-virginica\n",
      "Number of votes : 3 out of 3\n",
      "The predicted class for sample [6.4, 3.2, 5.3, 2.3] is : Iris-virginica\n",
      "Number of votes : 3 out of 3\n",
      "The predicted class for sample [7.0, 3.1, 5.5, 1.8] is : Iris-virginica\n",
      "Number of votes : 3 out of 3\n",
      "The predicted class for sample [6.2, 3.3, 5.9, 2.1] is : Iris-virginica\n",
      "Number of votes : 3 out of 3\n",
      "The predicted class for sample [6.6, 2.9, 5.3, 2.3] is : Iris-virginica\n",
      "Number of votes : 3 out of 3\n"
     ]
    }
   ],
   "source": [
    "def main():\n",
    "    try:\n",
    "        # get value of k\n",
    "        k = int(input('Enter the value of k : '))\n",
    "\n",
    "        # load the training and test data set\n",
    "        training_file = input('Enter name of training data file : ')\n",
    "        test_file = input('Enter name of test data file : ')\n",
    "        training_set = convert_to_float(load_data_set(training_file), 'training')\n",
    "        test_set = convert_to_float(load_data_set(test_file), 'test')\n",
    "\n",
    "        if not training_set:\n",
    "            print('Empty training set')\n",
    "\n",
    "        elif not test_set:\n",
    "            print('Empty test set')\n",
    "\n",
    "        elif k > len(training_set):\n",
    "            print('Expected number of neighbors is higher than number of training data instances')\n",
    "\n",
    "        else:\n",
    "            knn(training_set, test_set, k)\n",
    "\n",
    "    except ValueError as v:\n",
    "        print(v)\n",
    "\n",
    "    except FileNotFoundError:\n",
    "        print('File not found')\n",
    "\n",
    "\n",
    "if __name__ == '__main__':\n",
    "    main()"
   ]
  },
  {
   "cell_type": "code",
   "execution_count": null,
   "metadata": {},
   "outputs": [],
   "source": []
  }
 ],
 "metadata": {
  "kernelspec": {
   "display_name": "Python 3",
   "language": "python",
   "name": "python3"
  },
  "language_info": {
   "codemirror_mode": {
    "name": "ipython",
    "version": 3
   },
   "file_extension": ".py",
   "mimetype": "text/x-python",
   "name": "python",
   "nbconvert_exporter": "python",
   "pygments_lexer": "ipython3",
   "version": "3.7.3"
  }
 },
 "nbformat": 4,
 "nbformat_minor": 2
}
